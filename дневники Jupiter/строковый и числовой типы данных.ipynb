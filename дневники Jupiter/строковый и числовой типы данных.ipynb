{
 "cells": [
  {
   "cell_type": "code",
   "execution_count": 4,
   "id": "finite-surprise",
   "metadata": {},
   "outputs": [
    {
     "name": "stdout",
     "output_type": "stream",
     "text": [
      "введи a=2\n",
      "введи b=3\n",
      "23\n"
     ]
    }
   ],
   "source": [
    "# работа с строковыми переменными\n",
    "a = input('введи a=')\n",
    "b = input('введи b=')\n",
    "summa = a + b\n",
    "print(summa)"
   ]
  },
  {
   "cell_type": "code",
   "execution_count": 3,
   "id": "external-crisis",
   "metadata": {},
   "outputs": [
    {
     "name": "stdout",
     "output_type": "stream",
     "text": [
      "введи a=2\n",
      "введи b=3\n",
      "5\n"
     ]
    }
   ],
   "source": [
    "# работа с числовыми переменными\n",
    "a = int(input('введи a='))\n",
    "b = int(input('введи b='))\n",
    "summa = a + b\n",
    "print(summa)"
   ]
  },
  {
   "cell_type": "code",
   "execution_count": 5,
   "id": "joint-cooling",
   "metadata": {},
   "outputs": [
    {
     "name": "stdout",
     "output_type": "stream",
     "text": [
      "введи a=2\n",
      "введи b=3\n",
      "5\n"
     ]
    }
   ],
   "source": [
    "# магия программ-однострочников\n",
    "print(int(input('введи a=')) + int(input('введи b=')))"
   ]
  },
  {
   "cell_type": "code",
   "execution_count": null,
   "id": "distinct-vietnamese",
   "metadata": {},
   "outputs": [],
   "source": []
  }
 ],
 "metadata": {
  "kernelspec": {
   "display_name": "Python 3",
   "language": "python",
   "name": "python3"
  },
  "language_info": {
   "codemirror_mode": {
    "name": "ipython",
    "version": 3
   },
   "file_extension": ".py",
   "mimetype": "text/x-python",
   "name": "python",
   "nbconvert_exporter": "python",
   "pygments_lexer": "ipython3",
   "version": "3.6.13"
  }
 },
 "nbformat": 4,
 "nbformat_minor": 5
}
